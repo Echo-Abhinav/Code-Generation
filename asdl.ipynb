{
 "cells": [
  {
   "cell_type": "code",
   "execution_count": null,
   "metadata": {},
   "outputs": [],
   "source": [
    "import ast\n",
    "from asdl.asdl import ASDLGrammar\n",
    "from asdl.lang.py.py_asdl_helper import *\n",
    "from asdl.lang.py.py_transition_system import *\n",
    "from asdl.hypothesis import *\n",
    "import astor\n",
    "\n",
    "# read in the grammar specification of Python, defined in ASDL\n",
    "asdl_text = open('py_asdl.txt').read()\n",
    "grammar = ASDLGrammar.from_text(asdl_text)\n",
    "\n",
    "py_code = \"\"\"pandas.read('file.csv', nrows=100)\"\"\"\n",
    "\n",
    "# get the (domain-specific) python AST of the example Python code snippet\n",
    "py_ast = ast.parse(py_code)\n",
    "\n",
    "# convert the python AST into general-purpose ASDL AST used by tranX\n",
    "asdl_ast = python_ast_to_asdl_ast(py_ast.body[0], grammar)\n",
    "print('String representation of the ASDL AST: \\n%s' % asdl_ast.to_string())\n",
    "print('Size of the AST: %d' % asdl_ast.size)\n",
    "\n",
    "# we can also convert the ASDL AST back into Python AST\n",
    "py_ast_reconstructed = asdl_ast_to_python_ast(asdl_ast, grammar)\n",
    "\n",
    "# initialize the Python transition parser\n",
    "parser = PythonTransitionSystem(grammar)\n",
    "\n",
    "# get the sequence of gold-standard actions to construct the ASDL AST\n",
    "actions = parser.get_actions(asdl_ast)\n",
    "\n",
    "# a hypothesis is an (partial) ASDL AST generated using a sequence of tree-construction actions\n",
    "hypothesis = Hypothesis()\n",
    "for t, action in enumerate(actions, 1):\n",
    "    # the type of the action should belong to one of the valid continuing types\n",
    "    # of the transition system\n",
    "    assert action.__class__ in parser.get_valid_continuation_types(hypothesis)\n",
    "\n",
    "    # if it's an ApplyRule action, the production rule should belong to the\n",
    "    # set of rules with the same LHS type as the current rule\n",
    "    if isinstance(action, ApplyRuleAction) and hypothesis.frontier_node:\n",
    "        assert action.production in grammar[hypothesis.frontier_field.type]\n",
    "\n",
    "    print('t=%d, Action=%s' % (t, action))\n",
    "    hypothesis.apply_action(action)\n",
    "\n",
    "# get the surface code snippets from the original Python AST,\n",
    "# the reconstructed AST and the AST generated using actions\n",
    "# they should be the same\n",
    "src1 = astor.to_source(py_ast).strip()\n",
    "src2 = astor.to_source(py_ast_reconstructed).strip()\n",
    "src3 = astor.to_source(asdl_ast_to_python_ast(hypothesis.tree, grammar)).strip()\n",
    "\n",
    "assert src1 == src2 == src3 == \"pandas.read('file.csv', nrows=100)\""
   ]
  }
 ],
 "metadata": {
  "kernelspec": {
   "display_name": "Python 3",
   "language": "python",
   "name": "python3"
  },
  "language_info": {
   "name": "python",
   "version": "3.8.10"
  },
  "orig_nbformat": 4,
  "vscode": {
   "interpreter": {
    "hash": "916dbcbb3f70747c44a77c7bcd40155683ae19c65e1c03b4aa3499c5328201f1"
   }
  }
 },
 "nbformat": 4,
 "nbformat_minor": 2
}
